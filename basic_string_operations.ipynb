{
 "cells": [
  {
   "cell_type": "markdown",
   "metadata": {},
   "source": [
    "# TEMEL STRİNG İŞLEMLERİ"
   ]
  },
  {
   "cell_type": "code",
   "execution_count": 1,
   "metadata": {},
   "outputs": [],
   "source": [
    "name = \"güray\""
   ]
  },
  {
   "cell_type": "code",
   "execution_count": 2,
   "metadata": {},
   "outputs": [
    {
     "data": {
      "text/plain": [
       "'güraygüraygüray'"
      ]
     },
     "execution_count": 2,
     "metadata": {},
     "output_type": "execute_result"
    }
   ],
   "source": [
    "name * 3"
   ]
  },
  {
   "cell_type": "code",
   "execution_count": 3,
   "metadata": {},
   "outputs": [
    {
     "data": {
      "text/plain": [
       "'güraydemiröz'"
      ]
     },
     "execution_count": 3,
     "metadata": {},
     "output_type": "execute_result"
    }
   ],
   "source": [
    "\"güray\" + \"demiröz\""
   ]
  },
  {
   "cell_type": "code",
   "execution_count": 4,
   "metadata": {},
   "outputs": [
    {
     "data": {
      "text/plain": [
       "'Güray'"
      ]
     },
     "execution_count": 4,
     "metadata": {},
     "output_type": "execute_result"
    }
   ],
   "source": [
    "\"G\" + name[1:]"
   ]
  },
  {
   "cell_type": "code",
   "execution_count": 5,
   "metadata": {},
   "outputs": [],
   "source": [
    "names = [\"güray\", \"alisait\"]"
   ]
  },
  {
   "cell_type": "code",
   "execution_count": 6,
   "metadata": {},
   "outputs": [
    {
     "name": "stdout",
     "output_type": "stream",
     "text": [
      "İsim :güray\n",
      "İsim :alisait\n"
     ]
    }
   ],
   "source": [
    "for i in names:\n",
    "    print(\"İsim :\", i, sep=\"\")"
   ]
  },
  {
   "cell_type": "code",
   "execution_count": 7,
   "metadata": {},
   "outputs": [
    {
     "name": "stdout",
     "output_type": "stream",
     "text": [
      "_güray\n",
      "_alisait\n"
     ]
    }
   ],
   "source": [
    "for i in names:\n",
    "    print(\"_\", i, sep=\"\")"
   ]
  },
  {
   "cell_type": "code",
   "execution_count": 8,
   "metadata": {},
   "outputs": [
    {
     "name": "stdout",
     "output_type": "stream",
     "text": [
      "(0, 'güray') (1, 'alisait')\n"
     ]
    }
   ],
   "source": [
    "print(*enumerate(names))"
   ]
  },
  {
   "cell_type": "code",
   "execution_count": 9,
   "metadata": {},
   "outputs": [
    {
     "name": "stdout",
     "output_type": "stream",
     "text": [
      "(0, 'güray')\n",
      "(1, 'alisait')\n"
     ]
    }
   ],
   "source": [
    "for i in enumerate(names):\n",
    "    print(i)"
   ]
  },
  {
   "cell_type": "code",
   "execution_count": 10,
   "metadata": {},
   "outputs": [
    {
     "name": "stdout",
     "output_type": "stream",
     "text": [
      "(0, 'n')\n",
      "(1, 'a')\n",
      "(2, 'm')\n",
      "(3, 'e')\n",
      "(4, 's')\n"
     ]
    }
   ],
   "source": [
    "for i in enumerate(\"names\"):\n",
    "    print(i)"
   ]
  },
  {
   "cell_type": "code",
   "execution_count": 11,
   "metadata": {},
   "outputs": [
    {
     "name": "stdout",
     "output_type": "stream",
     "text": [
      "(1, 'güray')\n",
      "(2, 'alisait')\n"
     ]
    }
   ],
   "source": [
    "for i in enumerate(names, 1):\n",
    "    print(i)"
   ]
  },
  {
   "cell_type": "markdown",
   "metadata": {},
   "source": [
    "## Dizi İçi Tip Sorgulama"
   ]
  },
  {
   "cell_type": "code",
   "execution_count": 12,
   "metadata": {},
   "outputs": [
    {
     "data": {
      "text/plain": [
       "True"
      ]
     },
     "execution_count": 12,
     "metadata": {},
     "output_type": "execute_result"
    }
   ],
   "source": [
    "\"güray\".isalpha()"
   ]
  },
  {
   "cell_type": "code",
   "execution_count": 13,
   "metadata": {},
   "outputs": [
    {
     "data": {
      "text/plain": [
       "False"
      ]
     },
     "execution_count": 13,
     "metadata": {},
     "output_type": "execute_result"
    }
   ],
   "source": [
    "\"güray0\".isalpha()"
   ]
  },
  {
   "cell_type": "markdown",
   "metadata": {},
   "source": [
    "`isalpha()`metodu, bir string’in yalnızca harflerden (A-Z, a-z) oluşup oluşmadığını kontrol eder. Eğer string boş değilse ve yalnızca alfabetik karakterler içeriyorsa True, aksi halde False döner.\n",
    "\n",
    "- Örnek 1: Sadece harflerden oluşan bir string\n",
    "    - metin1 = \"Python\"\n",
    "    - print(metin1.isalpha())  # Çıktı: True\n",
    "\n",
    "- Örnek 2: Harfler ve rakamlar içeriyorsa\n",
    "    - metin2 = \"Python3\"\n",
    "    - print(metin2.isalpha())  # Çıktı: False\n",
    "\n",
    "- Örnek 3: Boşluk içeren string\n",
    "    - metin3 = \"Merhaba Dünya\"\n",
    "    - print(metin3.isalpha())  # Çıktı: False\n",
    "\n",
    "- Örnek 4: Yalnızca rakamlardan oluşan string\n",
    "    - metin4 = \"12345\"\n",
    "    - print(metin4.isalpha())  # Çıktı: False"
   ]
  },
  {
   "cell_type": "code",
   "execution_count": 14,
   "metadata": {},
   "outputs": [
    {
     "data": {
      "text/plain": [
       "True"
      ]
     },
     "execution_count": 14,
     "metadata": {},
     "output_type": "execute_result"
    }
   ],
   "source": [
    "\"12345\".isdigit()"
   ]
  },
  {
   "cell_type": "markdown",
   "metadata": {},
   "source": [
    "Açıklama:\n",
    "`isdigit()` metodu, bir string'in yalnızca rakam karakterleri içerip içermediğini kontrol eder.\n",
    "Eğer string boş değilse ve tüm karakterler rakam ise True döner; aksi takdirde False döner.\n",
    "\n",
    "- Örnek 1: Sadece rakamlardan oluşan bir string\n",
    "    - metin1 = \"12345\"\n",
    "    - print(metin1.isdigit())  # Çıktı: True\n",
    "\n",
    "- Örnek 2: Rakamlar ve harfler içeriyorsa\n",
    "    - metin2 = \"12345a\"\n",
    "    - print(metin2.isdigit())  # Çıktı: False\n",
    "\n",
    "- Örnek 3: Boşluk içeren string\n",
    "    - metin3 = \"123 45\"\n",
    "    - print(metin3.isdigit())  # Çıktı: False\n",
    "\n",
    "- Örnek 4: Boş string\n",
    "    - metin4 = \"\"\n",
    "    - print(metin4.isdigit())  # Çıktı: False\n"
   ]
  },
  {
   "cell_type": "code",
   "execution_count": 15,
   "metadata": {},
   "outputs": [
    {
     "data": {
      "text/plain": [
       "True"
      ]
     },
     "execution_count": 15,
     "metadata": {},
     "output_type": "execute_result"
    }
   ],
   "source": [
    "\"12345\".isnumeric()\n"
   ]
  },
  {
   "cell_type": "markdown",
   "metadata": {},
   "source": [
    "Açıklama:\n",
    "`isnumeric()` metodu, bir string'in içerisindeki tüm karakterlerin sayısal (numeric) olup olmadığını kontrol eder.\n",
    "Eğer string boş değilse ve tüm karakterler sayısal karakterler ise True döner; aksi halde False döner.\n",
    "- Örnek 1: Sadece rakamlardan oluşan bir string\n",
    "    - metin1 = \"12345\"\n",
    "    - print(metin1.isnumeric())  Çıktı: True\n",
    "\n",
    "- Örnek 2: Rakamlar ve harfler içeriyorsa\n",
    "    - metin2 = \"12345a\"\n",
    "    - print(metin2.isnumeric())  Çıktı: False\n",
    "\n",
    "- Örnek 3: Unicode sayısal karakterler içeren string (örneğin: 'Ⅻ')\n",
    "    - metin3 = \"Ⅻ\"\n",
    "    - print(metin3.isnumeric())  Çıktı: True\n",
    "\n",
    "- Örnek 4: Boş string\n",
    "    - metin4 = \"\"\n",
    "    - print(metin4.isnumeric())  # Çıktı: False\n"
   ]
  },
  {
   "cell_type": "code",
   "execution_count": 16,
   "metadata": {},
   "outputs": [
    {
     "data": {
      "text/plain": [
       "True"
      ]
     },
     "execution_count": 16,
     "metadata": {},
     "output_type": "execute_result"
    }
   ],
   "source": [
    "\"güray0\".isalnum()"
   ]
  },
  {
   "cell_type": "markdown",
   "metadata": {},
   "source": [
    "Açıklama:\n",
    "`isalnum()` metodu, bir string'in yalnızca harf ve rakamlardan oluşup oluşmadığını kontrol eder.\n",
    "Eğer string boş değilse ve tüm karakterler ya harf ya da rakam ise True döner; aksi halde False döner.\n",
    "\n",
    "- Örnek 1: Sadece harflerden oluşan bir string\n",
    "    - metin1 = \"Python\"\n",
    "    - print(metin1.isalnum())  # Çıktı: True\n",
    "\n",
    "- Örnek 2: Sadece rakamlardan oluşan bir string\n",
    "    - metin2 = \"12345\"\n",
    "    - print(metin2.isalnum())  # Çıktı: True\n",
    "\n",
    "- Örnek 3: Harfler ve rakamlar içeriyorsa\n",
    "    - metin3 = \"Python3\"\n",
    "    - print(metin3.isalnum())  # Çıktı: True\n",
    "\n",
    "- Örnek 4: Özel karakter veya boşluk içeriyorsa\n",
    "    - metin4 = \"Python 3!\"\n",
    "    - print(metin4.isalnum())  # Çıktı: False\n"
   ]
  },
  {
   "cell_type": "markdown",
   "metadata": {},
   "source": [
    "## Elemanlarına ve Eleman İndekslerine Erişim"
   ]
  },
  {
   "cell_type": "code",
   "execution_count": 17,
   "metadata": {},
   "outputs": [],
   "source": [
    "name = \"Güray\""
   ]
  },
  {
   "cell_type": "code",
   "execution_count": 18,
   "metadata": {},
   "outputs": [
    {
     "data": {
      "text/plain": [
       "'Güray'"
      ]
     },
     "execution_count": 18,
     "metadata": {},
     "output_type": "execute_result"
    }
   ],
   "source": [
    "name"
   ]
  },
  {
   "cell_type": "code",
   "execution_count": 19,
   "metadata": {},
   "outputs": [
    {
     "data": {
      "text/plain": [
       "'Gür'"
      ]
     },
     "execution_count": 19,
     "metadata": {},
     "output_type": "execute_result"
    }
   ],
   "source": [
    "name[:3]"
   ]
  },
  {
   "cell_type": "code",
   "execution_count": 20,
   "metadata": {},
   "outputs": [
    {
     "data": {
      "text/plain": [
       "3"
      ]
     },
     "execution_count": 20,
     "metadata": {},
     "output_type": "execute_result"
    }
   ],
   "source": [
    "name.index(\"a\")"
   ]
  },
  {
   "cell_type": "code",
   "execution_count": 21,
   "metadata": {},
   "outputs": [
    {
     "data": {
      "text/plain": [
       "4"
      ]
     },
     "execution_count": 21,
     "metadata": {},
     "output_type": "execute_result"
    }
   ],
   "source": [
    "name.index(\"y\")"
   ]
  },
  {
   "cell_type": "code",
   "execution_count": 22,
   "metadata": {},
   "outputs": [],
   "source": [
    "name = \"Güray Demiröz\""
   ]
  },
  {
   "cell_type": "code",
   "execution_count": 23,
   "metadata": {},
   "outputs": [
    {
     "data": {
      "text/plain": [
       "10"
      ]
     },
     "execution_count": 23,
     "metadata": {},
     "output_type": "execute_result"
    }
   ],
   "source": [
    "name.index(\"r\", 3)"
   ]
  },
  {
   "cell_type": "markdown",
   "metadata": {},
   "source": [
    "## Başlangıç ve Bitiş Karakterlerini Sorgulamak: startwith() and endswtih()"
   ]
  },
  {
   "cell_type": "code",
   "execution_count": 24,
   "metadata": {},
   "outputs": [],
   "source": [
    "name = \"Güray Demiröz\""
   ]
  },
  {
   "cell_type": "code",
   "execution_count": 25,
   "metadata": {},
   "outputs": [
    {
     "data": {
      "text/plain": [
       "False"
      ]
     },
     "execution_count": 25,
     "metadata": {},
     "output_type": "execute_result"
    }
   ],
   "source": [
    "name.startswith(\"a\")"
   ]
  },
  {
   "cell_type": "markdown",
   "metadata": {},
   "source": [
    "Açıklama:\n",
    "`startswith()` metodu, bir string'in belirli bir karakter veya alt string ile başlayıp başlamadığını kontrol eder.\n",
    "Eğer string belirtilen başlangıç karakteri veya alt string ile başlıyorsa True, aksi halde False döner.\n",
    "Metod, büyük-küçük harfe duyarlıdır ve opsiyonel olarak başlangıç indeksini de alabilir.\n",
    "\n",
    "- Örnek 1: Belirli bir karakter ile başlıyor mu?\n",
    "    - metin1 = \"Merhaba\"\n",
    "    - print(metin1.startswith(\"M\"))  # Çıktı: True\n",
    "\n",
    "- Örnek 2: Belirli bir alt string ile başlıyor mu?\n",
    "    - metin2 = \"Merhaba Dünya\"\n",
    "    - print(metin2.startswith(\"Merhaba\"))  # Çıktı: True\n",
    "\n",
    "- Örnek 3: Başlamıyorsa\n",
    "    - metin3 = \"Merhaba Dünya\"\n",
    "    - print(metin3.startswith(\"Dünya\"))  # Çıktı: False\n",
    "\n",
    "- Örnek 4: Başlangıç aralığı belirterek kontrol (opsiyonel)\n",
    "    - metin4 = \"Python Programlama\"\n",
    "    - print(metin4.startswith(\"Program\", 7))  # Çıktı: True\n"
   ]
  },
  {
   "cell_type": "code",
   "execution_count": 26,
   "metadata": {},
   "outputs": [
    {
     "data": {
      "text/plain": [
       "False"
      ]
     },
     "execution_count": 26,
     "metadata": {},
     "output_type": "execute_result"
    }
   ],
   "source": [
    "name.startswith(\"g\")"
   ]
  },
  {
   "cell_type": "code",
   "execution_count": 27,
   "metadata": {},
   "outputs": [
    {
     "data": {
      "text/plain": [
       "True"
      ]
     },
     "execution_count": 27,
     "metadata": {},
     "output_type": "execute_result"
    }
   ],
   "source": [
    "name.startswith(\"G\")"
   ]
  },
  {
   "cell_type": "code",
   "execution_count": 28,
   "metadata": {},
   "outputs": [
    {
     "data": {
      "text/plain": [
       "True"
      ]
     },
     "execution_count": 28,
     "metadata": {},
     "output_type": "execute_result"
    }
   ],
   "source": [
    "name.endswith(\"z\")"
   ]
  },
  {
   "cell_type": "markdown",
   "metadata": {},
   "source": [
    "Açıklama:\n",
    "`endswith()` metodu, bir string'in belirli bir karakter veya alt string ile bitip bitmediğini kontrol eder.\n",
    "Eğer string belirtilen bitiş karakteri veya alt string ile bitiyorsa True, aksi halde False döner.\n",
    "Metod, büyük-küçük harfe duyarlıdır ve opsiyonel olarak başlangıç ve bitiş indekslerini de alabilir.\n",
    "\n",
    "- Örnek 1: Belirli bir karakter ile bitiyor mu?\n",
    "    - metin1 = \"Merhaba\"\n",
    "    - print(metin1.endswith(\"a\"))  # Çıktı: True\n",
    "\n",
    "- Örnek 2: Belirli bir alt string ile bitiyor mu?\n",
    "    - metin2 = \"Merhaba Dünya\"\n",
    "    - print(metin2.endswith(\"Dünya\"))  # Çıktı: True\n",
    "\n",
    "- Örnek 3: Bitmiyorsa\n",
    "    - metin3 = \"Merhaba Dünya\"\n",
    "    - print(metin3.endswith(\"Merhaba\"))  # Çıktı: False\n",
    "\n",
    "- Örnek 4: Bitiş aralığı belirterek kontrol (opsiyonel)\n",
    "    - metin4 = \"Python Programlama\"\n",
    "    - print(metin4.endswith(\"lama\", 7, 20))  # Çıktı: True\n"
   ]
  },
  {
   "cell_type": "markdown",
   "metadata": {},
   "source": [
    "### Eleman Saydırma"
   ]
  },
  {
   "cell_type": "code",
   "execution_count": 29,
   "metadata": {},
   "outputs": [
    {
     "data": {
      "text/plain": [
       "1"
      ]
     },
     "execution_count": 29,
     "metadata": {},
     "output_type": "execute_result"
    }
   ],
   "source": [
    "name.count(\"a\")"
   ]
  },
  {
   "cell_type": "code",
   "execution_count": 30,
   "metadata": {},
   "outputs": [
    {
     "data": {
      "text/plain": [
       "0"
      ]
     },
     "execution_count": 30,
     "metadata": {},
     "output_type": "execute_result"
    }
   ],
   "source": [
    "name.count(\"A\")"
   ]
  },
  {
   "cell_type": "markdown",
   "metadata": {},
   "source": [
    "Açıklama:\n",
    "`count()` metodu, bir string içinde belirtilen alt string’in kaç kez geçtiğini sayar.\n",
    "Opsiyonel olarak başlangıç ve bitiş indeksleri de belirtilebilir.\n",
    "\n",
    "- Örnek 1: Basit kullanım - belirli bir alt string’in kaç kez geçtiğini bulma\n",
    "    - metin1 = \"Merhaba dünya, dünya güzel!\"\n",
    "    - print(metin1.count(\"dünya\"))  # Çıktı: 2\n",
    "\n",
    "- Örnek 2: Hiç bulunmayan bir kelimeyi sayma\n",
    "    - metin2 = \"Python programlama dili\"\n",
    "    - print(metin2.count(\"Java\"))  # Çıktı: 0\n",
    "\n",
    "- Örnek 3: Belirli bir aralıkta arama\n",
    "    - metin3 = \"aaabaaaaba\"\n",
    "    - print(metin3.count(\"aa\", 2, 8))  # Çıktı: 2\n",
    "\n",
    "- Örnek 4: Tek karakter sayma\n",
    "    - metin4 = \"Mississippi\"\n",
    "    - print(metin4.count(\"s\"))  # Çıktı: 4\n"
   ]
  },
  {
   "cell_type": "code",
   "execution_count": null,
   "metadata": {},
   "outputs": [],
   "source": []
  },
  {
   "cell_type": "markdown",
   "metadata": {},
   "source": [
    "### Eleman Sıralama"
   ]
  },
  {
   "cell_type": "code",
   "execution_count": 31,
   "metadata": {},
   "outputs": [
    {
     "data": {
      "text/plain": [
       "['a', 'g', 'r', 'y', 'ü']"
      ]
     },
     "execution_count": 31,
     "metadata": {},
     "output_type": "execute_result"
    }
   ],
   "source": [
    "sorted(\"güray\")"
   ]
  },
  {
   "cell_type": "code",
   "execution_count": 32,
   "metadata": {},
   "outputs": [
    {
     "name": "stdout",
     "output_type": "stream",
     "text": [
      "agryü\n"
     ]
    }
   ],
   "source": [
    "print(*sorted(\"güray\"), sep=\"\")"
   ]
  },
  {
   "cell_type": "markdown",
   "metadata": {},
   "source": [
    "Açıklama:\n",
    "`sorted()` fonksiyonu, verilen bir string’in karakterlerini alfabetik sıraya göre sıralar.\n",
    "Sonuç, sıralanmış karakterlerden oluşan bir liste olarak döner.\n",
    "Büyük-küçük harf duyarlıdır ve isteğe bağlı olarak ters sıralama yapılabilir.\n",
    "\n",
    "- Örnek 1: Alfabetik sıralama\n",
    "    - metin1 = \"python\"\n",
    "    - print(sorted(metin1))  # Çıktı: ['h', 'n', 'o', 'p', 't', 'y']\n",
    "\n",
    "- Örnek 2: Büyük-küçük harf duyarlılığı\n",
    "    - metin2 = \"Python\"\n",
    "    - print(sorted(metin2))  # Çıktı: ['P', 'h', 'n', 'o', 't', 'y'] (Büyük harfler önce gelir)\n",
    "\n",
    "- Örnek 3: Tersten sıralama\n",
    "    - metin3 = \"programlama\"\n",
    "    - print(sorted(metin3, reverse=True))  # Çıktı: ['r', 'p', 'o', 'm', 'm', 'l', 'g', 'a', 'a', 'a']\n",
    "\n",
    "- Örnek 4: Rakam içeren string\n",
    "    - metin4 = \"a3b2c1\"\n",
    "    - print(sorted(metin4))  # Çıktı: ['1', '2', '3', 'a', 'b', 'c'] (Önce rakamlar gelir)\n",
    "\n",
    "- Örnek 5: Boş string\n",
    "    - metin5 = \"\"\n",
    "    - print(sorted(metin5))  # Çıktı: []\n"
   ]
  },
  {
   "cell_type": "code",
   "execution_count": null,
   "metadata": {},
   "outputs": [],
   "source": []
  },
  {
   "cell_type": "markdown",
   "metadata": {},
   "source": [
    "### Karakterleri Bölmek"
   ]
  },
  {
   "cell_type": "code",
   "execution_count": 33,
   "metadata": {},
   "outputs": [],
   "source": [
    "name = \"Güray Demiröz\""
   ]
  },
  {
   "cell_type": "code",
   "execution_count": 34,
   "metadata": {},
   "outputs": [
    {
     "data": {
      "text/plain": [
       "['Güray', 'Demiröz']"
      ]
     },
     "execution_count": 34,
     "metadata": {},
     "output_type": "execute_result"
    }
   ],
   "source": [
    "name.split()"
   ]
  },
  {
   "cell_type": "code",
   "execution_count": 35,
   "metadata": {},
   "outputs": [
    {
     "data": {
      "text/plain": [
       "['Gür', 'y Demiröz']"
      ]
     },
     "execution_count": 35,
     "metadata": {},
     "output_type": "execute_result"
    }
   ],
   "source": [
    "name.split(\"a\")"
   ]
  },
  {
   "cell_type": "markdown",
   "metadata": {},
   "source": [
    "Açıklama:\n",
    "`split()` metodu, bir string’i belirli bir ayırıcıya göre bölerek bir liste döndürür.\n",
    "Varsayılan olarak boşluklara göre böler ancak farklı bir ayırıcı belirtilebilir.\n",
    "İsteğe bağlı olarak maksimum bölme sayısı da belirlenebilir.\n",
    "\n",
    "- Örnek 1: Varsayılan kullanım (boşluklara göre bölme)\n",
    "    - metin1 = \"Python programlama dili\"\n",
    "    - print(metin1.split())  # Çıktı: ['Python', 'programlama', 'dili']\n",
    "\n",
    "- Örnek 2: Belirli bir ayırıcı kullanarak bölme\n",
    "    - metin2 = \"elma,armut,çilek\"\n",
    "    - print(metin2.split(\",\"))  # Çıktı: ['elma', 'armut', 'çilek']\n",
    "\n",
    "- Örnek 3: Maksimum bölme sayısı belirleme\n",
    "    - metin3 = \"Bu bir örnek cümledir.\"\n",
    "    - print(metin3.split(\" \", 2))  # Çıktı: ['Bu', 'bir', 'örnek cümledir.']\n",
    "\n",
    "- Örnek 4: Satır sonu karakterine göre bölme\n",
    "    - metin4 = \"Merhaba\\nDünya\\nPython\"\n",
    "    - print(metin4.split(\"\\n\"))  # Çıktı: ['Merhaba', 'Dünya', 'Python']\n",
    "\n",
    "- Örnek 5: Ayırıcı bulunmadığında tüm string tek elemanlı liste olur\n",
    "    - metin5 = \"Python\"\n",
    "    - print(metin5.split(\",\"))  # Çıktı: ['Python']\n"
   ]
  },
  {
   "cell_type": "code",
   "execution_count": null,
   "metadata": {},
   "outputs": [],
   "source": []
  },
  {
   "cell_type": "markdown",
   "metadata": {},
   "source": [
    "### Büyük Küçük Harf İşlemleri"
   ]
  },
  {
   "cell_type": "code",
   "execution_count": 36,
   "metadata": {},
   "outputs": [],
   "source": [
    "name = \"Güray Demiröz\""
   ]
  },
  {
   "cell_type": "code",
   "execution_count": 37,
   "metadata": {},
   "outputs": [
    {
     "data": {
      "text/plain": [
       "'GÜRAY DEMIRÖZ'"
      ]
     },
     "execution_count": 37,
     "metadata": {},
     "output_type": "execute_result"
    }
   ],
   "source": [
    "name.upper()"
   ]
  },
  {
   "cell_type": "markdown",
   "metadata": {},
   "source": [
    "Açıklama:\n",
    "`upper()` metodu, bir string içindeki tüm harfleri büyük harfe çevirir.\n",
    "Orijinal string değişmez, yeni bir string döndürülür.\n",
    "\n",
    "- Örnek 1: Küçük harfleri büyük harfe çevirme\n",
    "    - metin1 = \"python\"\n",
    "    - print(metin1.upper())  # Çıktı: \"PYTHON\"\n",
    "\n",
    "- Örnek 2: Karışık harfli string\n",
    "    - metin2 = \"PyThOn\"\n",
    "    - print(metin2.upper())  # Çıktı: \"PYTHON\"\n",
    "\n",
    "- Örnek 3: Sayılar ve özel karakterler içeren string\n",
    "    - metin3 = \"Merhaba123!\"\n",
    "    - print(metin3.upper())  # Çıktı: \"MERHABA123!\" (Sayılar ve özel karakterler değişmez)\n",
    "\n",
    "- Örnek 4: Türkçe karakterler içeren string\n",
    "    - metin4 = \"İstanbul\"\n",
    "    - print(metin4.upper())  # Çıktı: \"İSTANBUL\"\n",
    "\n",
    "- Örnek 5: Boş string\n",
    "    - metin5 = \"\"\n",
    "    - print(metin5.upper())  # Çıktı: \"\"\n"
   ]
  },
  {
   "cell_type": "code",
   "execution_count": 38,
   "metadata": {},
   "outputs": [
    {
     "data": {
      "text/plain": [
       "'güray demiröz'"
      ]
     },
     "execution_count": 38,
     "metadata": {},
     "output_type": "execute_result"
    }
   ],
   "source": [
    "name.lower()"
   ]
  },
  {
   "cell_type": "markdown",
   "metadata": {},
   "source": [
    "Açıklama:\n",
    "`lower()` metodu, bir string içindeki tüm harfleri küçük harfe çevirir.\n",
    "Orijinal string değişmez, yeni bir string döndürülür.\n",
    "\n",
    "- Örnek 1: Büyük harfleri küçük harfe çevirme\n",
    "    - metin1 = \"PYTHON\"\n",
    "    - print(metin1.lower())  # Çıktı: \"python\"\n",
    "\n",
    "- Örnek 2: Karışık harfli string\n",
    "    - metin2 = \"PyThOn\"\n",
    "    - print(metin2.lower())  # Çıktı: \"python\"\n",
    "\n",
    "- Örnek 3: Sayılar ve özel karakterler içeren string\n",
    "    - metin3 = \"Merhaba123!\"\n",
    "    - print(metin3.lower())  # Çıktı: \"merhaba123!\" (Sayılar ve özel karakterler değişmez)\n",
    "\n",
    "- Örnek 4: Türkçe karakterler içeren string\n",
    "    - metin4 = \"İstanbul\"\n",
    "    - print(metin4.lower())  # Çıktı: \"istanbul\"\n",
    "\n",
    "- Örnek 5: Boş string\n",
    "    - metin5 = \"\"\n",
    "    - print(metin5.lower())  # Çıktı: \"\"\n"
   ]
  },
  {
   "cell_type": "code",
   "execution_count": 39,
   "metadata": {},
   "outputs": [],
   "source": [
    "name_b = name.upper()"
   ]
  },
  {
   "cell_type": "code",
   "execution_count": 40,
   "metadata": {},
   "outputs": [
    {
     "data": {
      "text/plain": [
       "'GÜRAY DEMIRÖZ'"
      ]
     },
     "execution_count": 40,
     "metadata": {},
     "output_type": "execute_result"
    }
   ],
   "source": [
    "name_b"
   ]
  },
  {
   "cell_type": "code",
   "execution_count": 41,
   "metadata": {},
   "outputs": [
    {
     "data": {
      "text/plain": [
       "False"
      ]
     },
     "execution_count": 41,
     "metadata": {},
     "output_type": "execute_result"
    }
   ],
   "source": [
    "name_b.islower()"
   ]
  },
  {
   "cell_type": "markdown",
   "metadata": {},
   "source": [
    "Açıklama:\n",
    "`islower()` metodu, bir string'in tamamen küçük harflerden oluşup oluşmadığını kontrol eder.\n",
    "Eğer string boş değilse ve tüm harfler küçük harfse True döner; aksi halde False döner.\n",
    "\n",
    "- Örnek 1: Tamamen küçük harflerden oluşan bir string\n",
    "    - metin1 = \"python\"\n",
    "    - print(metin1.islower())  # Çıktı: True\n",
    "\n",
    "- Örnek 2: Karışık harfli bir string (büyük harf içeriyor)\n",
    "    - metin2 = \"PyThOn\"\n",
    "    - print(metin2.islower())  # Çıktı: False\n",
    "\n",
    "- Örnek 3: Rakam ve özel karakter içeren string\n",
    "    - metin3 = \"python123!\"\n",
    "    - print(metin3.islower())  # Çıktı: True (Çünkü harfler küçük, rakam ve özel karakterler etkileyemez)\n",
    "\n",
    "- Örnek 4: Boş string\n",
    "    - metin4 = \"\"\n",
    "    - print(metin4.islower())  # Çıktı: False (Boş string de küçük harf olarak sayılmaz)\n",
    "\n",
    "- Örnek 5: Türkçe karakterler içeren string\n",
    "    - metin5 = \"istanbul\"\n",
    "    - print(metin5.islower())  # Çıktı: True\n"
   ]
  },
  {
   "cell_type": "code",
   "execution_count": 42,
   "metadata": {},
   "outputs": [
    {
     "data": {
      "text/plain": [
       "True"
      ]
     },
     "execution_count": 42,
     "metadata": {},
     "output_type": "execute_result"
    }
   ],
   "source": [
    "name_b.isupper()"
   ]
  },
  {
   "cell_type": "markdown",
   "metadata": {},
   "source": [
    "Açıklama:  \n",
    "`isupper()` metodu, bir string'in tamamen büyük harflerden oluşup oluşmadığını kontrol eder.  \n",
    "Eğer string boş değilse ve tüm harfler büyük harfse True döner; aksi halde False döner.\n",
    "\n",
    "- **Örnek 1: Tamamen büyük harflerden oluşan bir string**  \n",
    "    - metin1 = \"PYTHON\"  \n",
    "    - print(metin1.isupper())  # Çıktı: True  \n",
    "\n",
    "- **Örnek 2: Karışık harfli bir string (küçük harf içeriyor)**  \n",
    "    - metin2 = \"PyThOn\"  \n",
    "    - print(metin2.isupper())  # Çıktı: False  \n",
    "\n",
    "- **Örnek 3: Rakam ve özel karakter içeren string**  \n",
    "    - metin3 = \"PYTHON123!\"  \n",
    "    - print(metin3.isupper())  # Çıktı: True (Çünkü harfler büyük, rakam ve özel karakterler etkileyemez)  \n",
    "\n",
    "- **Örnek 4: Boş string**  \n",
    "    - metin4 = \"\"  \n",
    "    - print(metin4.isupper())  # Çıktı: False (Boş string de büyük harf olarak sayılmaz)  \n",
    "\n",
    "- **Örnek 5: Türkçe karakterler içeren string**  \n",
    "    - metin5 = \"İSTANBUL\"  \n",
    "    - print(metin5.isupper())  # Çıktı: True\n"
   ]
  },
  {
   "cell_type": "code",
   "execution_count": 43,
   "metadata": {},
   "outputs": [],
   "source": [
    "name = \"güray demiröz\""
   ]
  },
  {
   "cell_type": "code",
   "execution_count": 44,
   "metadata": {},
   "outputs": [
    {
     "data": {
      "text/plain": [
       "'Güray demiröz'"
      ]
     },
     "execution_count": 44,
     "metadata": {},
     "output_type": "execute_result"
    }
   ],
   "source": [
    "name.capitalize()"
   ]
  },
  {
   "cell_type": "markdown",
   "metadata": {},
   "source": [
    "Açıklama:  \n",
    "`capitalize()` metodu, bir string'in ilk harfini büyük yapar ve geri kalan tüm harfleri küçük yapar.  \n",
    "Eğer string boşsa, yine boş bir string döner.\n",
    "\n",
    "- **Örnek 1: Tamamen küçük harflerden oluşan bir string**  \n",
    "    - metin1 = \"python\"  \n",
    "    - print(metin1.capitalize())  # Çıktı: \"Python\"  \n",
    "\n",
    "- **Örnek 2: Karışık harfli bir string**  \n",
    "    - metin2 = \"pYThOn\"  \n",
    "    - print(metin2.capitalize())  # Çıktı: \"Python\"  \n",
    "\n",
    "- **Örnek 3: Zaten büyük harfli bir string**  \n",
    "    - metin3 = \"PYTHON\"  \n",
    "    - print(metin3.capitalize())  # Çıktı: \"Python\"  \n",
    "\n",
    "- **Örnek 4: Sayılar ve özel karakter içeren string**  \n",
    "    - metin4 = \"python123!\"  \n",
    "    - print(metin4.capitalize())  # Çıktı: \"Python123!\"  \n",
    "\n",
    "- **Örnek 5: Boş string**  \n",
    "    - metin5 = \"\"  \n",
    "    - print(metin5.capitalize())  # Çıktı: \"\"\n"
   ]
  },
  {
   "cell_type": "code",
   "execution_count": 45,
   "metadata": {},
   "outputs": [
    {
     "data": {
      "text/plain": [
       "'Güray Demiröz'"
      ]
     },
     "execution_count": 45,
     "metadata": {},
     "output_type": "execute_result"
    }
   ],
   "source": [
    "name.title()"
   ]
  },
  {
   "cell_type": "markdown",
   "metadata": {},
   "source": [
    "Açıklama:  \n",
    "`title()` metodu, bir string içindeki her kelimenin ilk harfini büyük yapar, geri kalan harfleri küçük yapar.  \n",
    "Kelime ayırıcıları boşluklar ve özel karakterlerdir.\n",
    "\n",
    "- **Örnek 1: Küçük harflerden oluşan bir string**  \n",
    "    - metin1 = \"python programlama dili\"  \n",
    "    - print(metin1.title())  # Çıktı: \"Python Programlama Dili\"  \n",
    "\n",
    "- **Örnek 2: Karışık harfli bir string**  \n",
    "    - metin2 = \"pYThOn pROGRAMlama\"  \n",
    "    - print(metin2.title())  # Çıktı: \"Python Programlama\"  \n",
    "\n",
    "- **Örnek 3: Zaten büyük harflerle yazılmış bir string**  \n",
    "    - metin3 = \"PYTHON PROGRAMLAMA\"  \n",
    "    - print(metin3.title())  # Çıktı: \"Python Programlama\"  \n",
    "\n",
    "- **Örnek 4: Sayılar ve özel karakterler içeren string**  \n",
    "    - metin4 = \"python123! programlama_dili\"  \n",
    "    - print(metin4.title())  # Çıktı: \"Python123! Programlama_Dili\"  \n",
    "\n",
    "- **Örnek 5: Boş string**  \n",
    "    - metin5 = \"\"  \n",
    "    - print(metin5.title())  # Çıktı: \"\"\n"
   ]
  },
  {
   "cell_type": "code",
   "execution_count": 46,
   "metadata": {},
   "outputs": [],
   "source": [
    "name = \"gÜRaY demiröz\""
   ]
  },
  {
   "cell_type": "code",
   "execution_count": 47,
   "metadata": {},
   "outputs": [
    {
     "data": {
      "text/plain": [
       "'GürAy DEMIRÖZ'"
      ]
     },
     "execution_count": 47,
     "metadata": {},
     "output_type": "execute_result"
    }
   ],
   "source": [
    "name.swapcase()"
   ]
  },
  {
   "cell_type": "markdown",
   "metadata": {},
   "source": [
    "Açıklama:  \n",
    "`swapcase()` metodu, bir string içindeki büyük harfleri küçük, küçük harfleri ise büyük yapar.  \n",
    "Sayılar ve özel karakterler değişmeden kalır.\n",
    "\n",
    "- **Örnek 1: Küçük harflerden oluşan bir string**  \n",
    "    - metin1 = \"python\"  \n",
    "    - print(metin1.swapcase())  # Çıktı: \"PYTHON\"  \n",
    "\n",
    "- **Örnek 2: Büyük harflerden oluşan bir string**  \n",
    "    - metin2 = \"PYTHON\"  \n",
    "    - print(metin2.swapcase())  # Çıktı: \"python\"  \n",
    "\n",
    "- **Örnek 3: Karışık harfli bir string**  \n",
    "    - metin3 = \"PyThOn\"  \n",
    "    - print(metin3.swapcase())  # Çıktı: \"pYtHoN\"  \n",
    "\n",
    "- **Örnek 4: Sayılar ve özel karakterler içeren string**  \n",
    "    - metin4 = \"Python123!\"  \n",
    "    - print(metin4.swapcase())  # Çıktı: \"pYTHON123!\" (Sayılar ve özel karakterler değişmez)  \n",
    "\n",
    "- **Örnek 5: Boş string**  \n",
    "    - metin5 = \"\"  \n",
    "    - print(metin5.swapcase())  # Çıktı: \"\"\n"
   ]
  },
  {
   "cell_type": "code",
   "execution_count": null,
   "metadata": {},
   "outputs": [],
   "source": []
  },
  {
   "cell_type": "markdown",
   "metadata": {},
   "source": [
    "## İstenmeyen Karakterleri Kırpmak"
   ]
  },
  {
   "cell_type": "code",
   "execution_count": 48,
   "metadata": {},
   "outputs": [],
   "source": [
    "name = \"   Güray     \"   "
   ]
  },
  {
   "cell_type": "code",
   "execution_count": 49,
   "metadata": {},
   "outputs": [
    {
     "data": {
      "text/plain": [
       "'Güray'"
      ]
     },
     "execution_count": 49,
     "metadata": {},
     "output_type": "execute_result"
    }
   ],
   "source": [
    "name.strip()"
   ]
  },
  {
   "cell_type": "markdown",
   "metadata": {},
   "source": [
    "Açıklama:  \n",
    "`strip()` metodu, bir string'in başındaki ve sonundaki boşlukları (veya belirtilen karakterleri) kaldırır.  \n",
    "Varsayılan olarak yalnızca boşlukları temizler.\n",
    "\n",
    "- **Örnek 1: Başında ve sonunda boşluk olan string**  \n",
    "    - metin1 = \"   python   \"  \n",
    "    - print(metin1.strip())  # Çıktı: \"python\"  \n",
    "\n",
    "- **Örnek 2: Sadece başında boşluk olan string**  \n",
    "    - metin2 = \"   python\"  \n",
    "    - print(metin2.strip())  # Çıktı: \"python\"  \n",
    "\n",
    "- **Örnek 3: Sadece sonunda boşluk olan string**  \n",
    "    - metin3 = \"python   \"  \n",
    "    - print(metin3.strip())  # Çıktı: \"python\"  \n",
    "\n",
    "- **Örnek 4: Özel karakterleri temizleme**  \n",
    "    - metin4 = \"---python---\"  \n",
    "    - print(metin4.strip(\"-\"))  # Çıktı: \"python\"  \n",
    "\n",
    "- **Örnek 5: Karışık baştaki ve sondaki karakterleri temizleme**  \n",
    "    - metin5 = \"xyxpythonxyx\"  \n",
    "    - print(metin5.strip(\"xy\"))  # Çıktı: \"python\"  \n",
    "\n",
    "- **Örnek 6: Boş string**  \n",
    "    - metin6 = \"\"  \n",
    "    - print(metin6.strip())  # Çıktı: \"\"  \n"
   ]
  },
  {
   "cell_type": "code",
   "execution_count": 50,
   "metadata": {},
   "outputs": [],
   "source": [
    "name = \"**Güray Demiröz**\""
   ]
  },
  {
   "cell_type": "code",
   "execution_count": 51,
   "metadata": {},
   "outputs": [
    {
     "data": {
      "text/plain": [
       "'Güray Demiröz**'"
      ]
     },
     "execution_count": 51,
     "metadata": {},
     "output_type": "execute_result"
    }
   ],
   "source": [
    "name.lstrip(\"*\")"
   ]
  },
  {
   "cell_type": "markdown",
   "metadata": {},
   "source": [
    "Açıklama:  \n",
    "`lstrip()` metodu, bir string'in sadece **başındaki** boşlukları (veya belirtilen karakterleri) temizler.  \n",
    "Varsayılan olarak sadece boşlukları kaldırır.\n",
    "\n",
    "- **Örnek 1: Başında boşluk olan string**  \n",
    "    - metin1 = \"   python\"  \n",
    "    - print(metin1.lstrip())  # Çıktı: \"python\"  \n",
    "\n",
    "- **Örnek 2: Sonunda boşluk olan string (değişmez)**  \n",
    "    - metin2 = \"python   \"  \n",
    "    - print(metin2.lstrip())  # Çıktı: \"python   \"  \n",
    "\n",
    "- **Örnek 3: Başında ve sonunda boşluk olan string**  \n",
    "    - metin3 = \"   python   \"  \n",
    "    - print(metin3.lstrip())  # Çıktı: \"python   \"  \n",
    "\n",
    "- **Örnek 4: Başındaki belirli karakterleri temizleme**  \n",
    "    - metin4 = \"---python---\"  \n",
    "    - print(metin4.lstrip(\"-\"))  # Çıktı: \"python---\"  \n",
    "\n",
    "- **Örnek 5: Karışık baştaki karakterleri temizleme**  \n",
    "    - metin5 = \"xyxpythonxyx\"  \n",
    "    - print(metin5.lstrip(\"xy\"))  # Çıktı: \"pythonxyx\"  \n",
    "\n",
    "- **Örnek 6: Boş string**  \n",
    "    - metin6 = \"\"  \n",
    "    - print(metin6.lstrip())  # Çıktı: \"\"  \n"
   ]
  },
  {
   "cell_type": "code",
   "execution_count": 52,
   "metadata": {},
   "outputs": [
    {
     "data": {
      "text/plain": [
       "'**Güray Demiröz'"
      ]
     },
     "execution_count": 52,
     "metadata": {},
     "output_type": "execute_result"
    }
   ],
   "source": [
    "name.rstrip(\"*\")"
   ]
  },
  {
   "cell_type": "markdown",
   "metadata": {},
   "source": [
    "Açıklama:  \n",
    "`rstrip()` metodu, bir string'in sadece **sonundaki** boşlukları (veya belirtilen karakterleri) temizler.  \n",
    "Varsayılan olarak sadece boşlukları kaldırır.\n",
    "\n",
    "- **Örnek 1: Sonunda boşluk olan string**  \n",
    "    - metin1 = \"python   \"  \n",
    "    - print(metin1.rstrip())  # Çıktı: \"python\"  \n",
    "\n",
    "- **Örnek 2: Başında boşluk olan string (değişmez)**  \n",
    "    - metin2 = \"   python\"  \n",
    "    - print(metin2.rstrip())  # Çıktı: \"   python\"  \n",
    "\n",
    "- **Örnek 3: Başında ve sonunda boşluk olan string**  \n",
    "    - metin3 = \"   python   \"  \n",
    "    - print(metin3.rstrip())  # Çıktı: \"   python\"  \n",
    "\n",
    "- **Örnek 4: Sonundaki belirli karakterleri temizleme**  \n",
    "    - metin4 = \"python---\"  \n",
    "    - print(metin4.rstrip(\"-\"))  # Çıktı: \"python\"  \n",
    "\n",
    "- **Örnek 5: Karışık sondaki karakterleri temizleme**  \n",
    "    - metin5 = \"xyxpythonxyx\"  \n",
    "    - print(metin5.rstrip(\"xy\"))  # Çıktı: \"xyxpython\"  \n",
    "\n",
    "- **Örnek 6: Boş string**  \n",
    "    - metin6 = \"\"  \n",
    "    - print(metin6.rstrip())  # Çıktı: \"\"  \n"
   ]
  },
  {
   "cell_type": "code",
   "execution_count": 53,
   "metadata": {},
   "outputs": [],
   "source": [
    "name = \"Güray Demiröz\""
   ]
  },
  {
   "cell_type": "code",
   "execution_count": 54,
   "metadata": {},
   "outputs": [],
   "source": [
    "split_name = name.split()"
   ]
  },
  {
   "cell_type": "code",
   "execution_count": 55,
   "metadata": {},
   "outputs": [
    {
     "data": {
      "text/plain": [
       "['Güray', 'Demiröz']"
      ]
     },
     "execution_count": 55,
     "metadata": {},
     "output_type": "execute_result"
    }
   ],
   "source": [
    "split_name"
   ]
  },
  {
   "cell_type": "code",
   "execution_count": 56,
   "metadata": {},
   "outputs": [],
   "source": [
    "joiner = \" \""
   ]
  },
  {
   "cell_type": "code",
   "execution_count": 57,
   "metadata": {},
   "outputs": [
    {
     "data": {
      "text/plain": [
       "'Güray Demiröz'"
      ]
     },
     "execution_count": 57,
     "metadata": {},
     "output_type": "execute_result"
    }
   ],
   "source": [
    "joiner.join(split_name)"
   ]
  },
  {
   "cell_type": "markdown",
   "metadata": {},
   "source": [
    "Açıklama:  \n",
    "`join()` metodu, bir iterable (liste, tuple vb.) içindeki string öğeleri belirtilen bir ayırıcıyla birleştirerek tek bir string oluşturur.  \n",
    "Metod, yalnızca string öğeleri içeren iterable'lar ile çalışır.\n",
    "\n",
    "- **Örnek 1: Liste elemanlarını boşluk ile birleştirme**  \n",
    "    - liste1 = [\"Python\", \"Java\", \"C++\"]  \n",
    "    - print(\" \".join(liste1))  # Çıktı: \"Python Java C++\"  \n",
    "\n",
    "- **Örnek 2: Liste elemanlarını virgül ile birleştirme**  \n",
    "    - liste2 = [\"Elma\", \"Armut\", \"Muz\"]  \n",
    "    - print(\", \".join(liste2))  # Çıktı: \"Elma, Armut, Muz\"  \n",
    "\n",
    "- **Örnek 3: Liste elemanlarını tire ile birleştirme**  \n",
    "    - liste3 = [\"2024\", \"03\", \"30\"]  \n",
    "    - print(\"-\".join(liste3))  # Çıktı: \"2024-03-30\"  \n",
    "\n",
    "- **Örnek 4: Tek tek harfleri birleştirme**  \n",
    "    - kelime = [\"P\", \"y\", \"t\", \"h\", \"o\", \"n\"]  \n",
    "    - print(\"\".join(kelime))  # Çıktı: \"Python\"  \n",
    "\n",
    "- **Örnek 5: Boş bir liste ile kullanma**  \n",
    "    - liste5 = []  \n",
    "    - print(\", \".join(liste5))  # Çıktı: \"\"  \n",
    "\n",
    "- **Örnek 6: Tuple elemanlarını birleştirme**  \n",
    "    - tuple1 = (\"Merhaba\", \"Dünya\")  \n",
    "    - print(\" - \".join(tuple1))  # Çıktı: \"Merhaba - Dünya\"  \n",
    "\n",
    "- **Örnek 7: Sayıları içeren bir liste ile hata alma (join yalnızca string'lerle çalışır)**  \n",
    "    - liste6 = [\"Python\", 3, 9]  \n",
    "    - print(\" \".join(liste6))  # TypeError: sequence item 1: expected str instance, int found  \n",
    "\n",
    "    - Çözüm: Sayıları string'e çevirerek kullanabilirsiniz:  \n",
    "      - print(\" \".join(map(str, liste6)))  # Çıktı: \"Python 3 9\"  \n"
   ]
  },
  {
   "cell_type": "code",
   "execution_count": null,
   "metadata": {},
   "outputs": [],
   "source": []
  },
  {
   "cell_type": "markdown",
   "metadata": {},
   "source": [
    "### Eleman Değiştirme"
   ]
  },
  {
   "cell_type": "code",
   "execution_count": 58,
   "metadata": {},
   "outputs": [],
   "source": [
    "name = \"Güray Demiröz\""
   ]
  },
  {
   "cell_type": "code",
   "execution_count": 59,
   "metadata": {},
   "outputs": [
    {
     "data": {
      "text/plain": [
       "'Guray Demiröz'"
      ]
     },
     "execution_count": 59,
     "metadata": {},
     "output_type": "execute_result"
    }
   ],
   "source": [
    "name.replace(\"ü\", \"u\")"
   ]
  },
  {
   "cell_type": "markdown",
   "metadata": {},
   "source": [
    "Açıklama:  \n",
    "`replace()` metodu, bir string içinde belirli bir alt string’i başka bir alt string ile değiştirir.  \n",
    "Orijinal string'i değiştirmez, yeni bir string döndürür.\n",
    "\n",
    "- **Örnek 1: Bir kelimeyi değiştirme**  \n",
    "    - metin1 = \"Merhaba dünya\"  \n",
    "    - print(metin1.replace(\"dünya\", \"evren\"))  # Çıktı: \"Merhaba evren\"  \n",
    "\n",
    "- **Örnek 2: Birden fazla geçen kelimeyi değiştirme**  \n",
    "    - metin2 = \"Python, Python, Python!\"  \n",
    "    - print(metin2.replace(\"Python\", \"Java\"))  # Çıktı: \"Java, Java, Java!\"  \n",
    "\n",
    "- **Örnek 3: Belirli bir sayıda değiştirme**  \n",
    "    - metin3 = \"elma elma elma\"  \n",
    "    - print(metin3.replace(\"elma\", \"armut\", 2))  # Çıktı: \"armut armut elma\"  \n",
    "\n",
    "- **Örnek 4: Harf değiştirme**  \n",
    "    - metin4 = \"a b c d e\"  \n",
    "    - print(metin4.replace(\" \", \"-\"))  # Çıktı: \"a-b-c-d-e\"  \n",
    "\n",
    "- **Örnek 5: Olmayan bir kelimeyi değiştirme (değişiklik olmaz)**  \n",
    "    - metin5 = \"Merhaba dünya\"  \n",
    "    - print(metin5.replace(\"gezegen\", \"evren\"))  # Çıktı: \"Merhaba dünya\"  \n",
    "\n",
    "- **Örnek 6: Boş string ile kullanma (karakter silme gibi çalışır)**  \n",
    "    - metin6 = \"Python123\"  \n",
    "    - print(metin6.replace(\"123\", \"\"))  # Çıktı: \"Python\"  \n",
    "\n",
    "- **Örnek 7: Büyük/küçük harf duyarlılığı**  \n",
    "    - metin7 = \"Python python PYTHON\"  \n",
    "    - print(metin7.replace(\"Python\", \"Java\"))  # Çıktı: \"Java python PYTHON\"  \n"
   ]
  },
  {
   "cell_type": "code",
   "execution_count": null,
   "metadata": {},
   "outputs": [],
   "source": []
  },
  {
   "cell_type": "code",
   "execution_count": 60,
   "metadata": {},
   "outputs": [],
   "source": [
    "statement = \"Bu ifade İçerisinde bazı Türkçe karakterler geçmektedir.\""
   ]
  },
  {
   "cell_type": "code",
   "execution_count": 61,
   "metadata": {},
   "outputs": [],
   "source": [
    "replaced_letters = \"çÇğĞıİöÖşŞüÜ\""
   ]
  },
  {
   "cell_type": "code",
   "execution_count": 62,
   "metadata": {},
   "outputs": [],
   "source": [
    "modified_letters = \"cCgGiIoOsSuU\""
   ]
  },
  {
   "cell_type": "code",
   "execution_count": 63,
   "metadata": {},
   "outputs": [],
   "source": [
    "fix_alphabet = str.maketrans(replaced_letters, modified_letters)"
   ]
  },
  {
   "cell_type": "code",
   "execution_count": 65,
   "metadata": {},
   "outputs": [
    {
     "data": {
      "text/plain": [
       "'Bu ifade Icerisinde bazi Turkce karakterler gecmektedir.'"
      ]
     },
     "execution_count": 65,
     "metadata": {},
     "output_type": "execute_result"
    }
   ],
   "source": [
    "statement.translate(fix_alphabet)"
   ]
  },
  {
   "cell_type": "markdown",
   "metadata": {},
   "source": [
    "Açıklama:  \n",
    "`str.maketrans()` metodu, karakter dönüşümleri için bir çeviri tablosu oluşturur.  \n",
    "Bu tablo `translate()` metodu ile birlikte kullanılarak string içindeki belirli karakterler değiştirilebilir.  \n",
    "\n",
    "### Kullanımı:  \n",
    "`str.maketrans(eski, yeni[, kaldır])`  \n",
    "- **eski**: Değiştirilecek karakterleri içeren string  \n",
    "- **yeni**: Yerine konulacak karakterleri içeren string (uzunluğu `eski` ile aynı olmalıdır)  \n",
    "- **kaldır** (isteğe bağlı): Silinecek karakterleri içeren string  \n",
    "\n",
    "---\n",
    "\n",
    "- **Örnek 1: Harf değişimi**  \n",
    "    - ceviri_tablosu = str.maketrans(\"abc\", \"123\")  \n",
    "    - metin1 = \"abcde\"  \n",
    "    - print(metin1.translate(ceviri_tablosu))  # Çıktı: \"123de\"  \n",
    "\n",
    "- **Örnek 2: Büyük harfleri küçük harflere dönüştürme**  \n",
    "    - ceviri_tablosu = str.maketrans(\"ABCDEFGHIJKLMNOPQRSTUVWXYZ\", \"abcdefghijklmnopqrstuvwxyz\")  \n",
    "    - metin2 = \"PYTHON PROGRAMLAMA\"  \n",
    "    - print(metin2.translate(ceviri_tablosu))  # Çıktı: \"python programlama\"  \n",
    "\n",
    "- **Örnek 3: Belirli karakterleri kaldırma**  \n",
    "    - ceviri_tablosu = str.maketrans(\"\", \"\", \"aeiou\")  # Sesli harfleri kaldır  \n",
    "    - metin3 = \"Merhaba Dünya\"  \n",
    "    - print(metin3.translate(ceviri_tablosu))  # Çıktı: \"Mrhb Dny\"  \n",
    "\n",
    "- **Örnek 4: Özel karakterleri değiştirme**  \n",
    "    - ceviri_tablosu = str.maketrans(\"@$&\", \"123\")  \n",
    "    - metin4 = \"Python@Java$C++&\"  \n",
    "    - print(metin4.translate(ceviri_tablosu))  # Çıktı: \"Python1Java2C++3\"  \n",
    "\n",
    "- **Örnek 5: Harfleri ters çevirme**  \n",
    "    - alfabe = \"abcdefghijklmnopqrstuvwxyz\"  \n",
    "    - ters_alfabe = alfabe[::-1]  \n",
    "    - ceviri_tablosu = str.maketrans(alfabe, ters_alfabe)  \n",
    "    - metin5 = \"hello world\"  \n",
    "    - print(metin5.translate(ceviri_tablosu))  # Çıktı: \"svool dliow\" (Harfler ters çevrildi)  \n"
   ]
  },
  {
   "cell_type": "code",
   "execution_count": null,
   "metadata": {},
   "outputs": [],
   "source": []
  },
  {
   "cell_type": "code",
   "execution_count": 67,
   "metadata": {},
   "outputs": [],
   "source": [
    "import pandas as pd"
   ]
  },
  {
   "cell_type": "code",
   "execution_count": 83,
   "metadata": {},
   "outputs": [],
   "source": [
    "names = [\"güray\", \"Alisait\", \"Güray\", \"ali\", \"sait\"]"
   ]
  },
  {
   "cell_type": "code",
   "execution_count": 84,
   "metadata": {},
   "outputs": [],
   "source": [
    "n = pd.Series(names)"
   ]
  },
  {
   "cell_type": "code",
   "execution_count": 85,
   "metadata": {},
   "outputs": [
    {
     "data": {
      "text/plain": [
       "0      güray\n",
       "1    Alisait\n",
       "2      Güray\n",
       "3        ali\n",
       "4       sait\n",
       "dtype: object"
      ]
     },
     "execution_count": 85,
     "metadata": {},
     "output_type": "execute_result"
    }
   ],
   "source": [
    "n"
   ]
  },
  {
   "cell_type": "code",
   "execution_count": 86,
   "metadata": {},
   "outputs": [
    {
     "data": {
      "text/plain": [
       "0    False\n",
       "1    False\n",
       "2    False\n",
       "3     True\n",
       "4    False\n",
       "dtype: bool"
      ]
     },
     "execution_count": 86,
     "metadata": {},
     "output_type": "execute_result"
    }
   ],
   "source": [
    "n.str.contains(\"al\")"
   ]
  },
  {
   "cell_type": "code",
   "execution_count": 87,
   "metadata": {},
   "outputs": [
    {
     "data": {
      "text/plain": [
       "3    ali\n",
       "dtype: object"
      ]
     },
     "execution_count": 87,
     "metadata": {},
     "output_type": "execute_result"
    }
   ],
   "source": [
    "n[n.str.contains(\"al\")]"
   ]
  },
  {
   "cell_type": "code",
   "execution_count": 88,
   "metadata": {},
   "outputs": [
    {
     "data": {
      "text/plain": [
       "np.int64(1)"
      ]
     },
     "execution_count": 88,
     "metadata": {},
     "output_type": "execute_result"
    }
   ],
   "source": [
    "n.str.contains(\"al\").sum()"
   ]
  },
  {
   "cell_type": "code",
   "execution_count": 90,
   "metadata": {},
   "outputs": [
    {
     "data": {
      "text/plain": [
       "np.int64(2)"
      ]
     },
     "execution_count": 90,
     "metadata": {},
     "output_type": "execute_result"
    }
   ],
   "source": [
    "n.str.contains(\"[aA]li\").sum()"
   ]
  },
  {
   "cell_type": "code",
   "execution_count": 91,
   "metadata": {},
   "outputs": [
    {
     "data": {
      "text/plain": [
       "1    Alisait\n",
       "3        ali\n",
       "dtype: object"
      ]
     },
     "execution_count": 91,
     "metadata": {},
     "output_type": "execute_result"
    }
   ],
   "source": [
    "n[n.str.contains(\"[aA]li\")]"
   ]
  },
  {
   "cell_type": "markdown",
   "metadata": {},
   "source": [
    "Açıklama:  \n",
    "Python'da **`str.contains()`** metodu **bulunmaz**.  \n",
    "Ancak benzer işlevi gerçekleştirmek için **`in` operatörü** veya **`re.search()`** kullanılabilir.\n",
    "\n",
    "---\n",
    "\n",
    "### **1. `in` Operatörü ile Kullanım (Önerilen Yöntem)**\n",
    "- **Örnek 1: Bir kelimenin string içinde olup olmadığını kontrol etme**  \n",
    "    - metin1 = \"Python programlama dili\"  \n",
    "    - print(\"Python\" in metin1)  # Çıktı: True  \n",
    "\n",
    "- **Örnek 2: Olmayan bir kelimeyi kontrol etme**  \n",
    "    - metin2 = \"Python programlama dili\"  \n",
    "    - print(\"Java\" in metin2)  # Çıktı: False  \n",
    "\n",
    "- **Örnek 3: Büyük/küçük harf duyarlılığı**  \n",
    "    - metin3 = \"Merhaba Dünya\"  \n",
    "    - print(\"dünya\" in metin3)  # Çıktı: False (Çünkü \"Dünya\" büyük harfle yazılmış)  \n",
    "\n",
    "---\n",
    "\n",
    "### **2. `re.search()` ile Kullanım (Regex ile Gelişmiş Arama)**\n",
    "- **Örnek 4: Belirli bir kelimeyi regex ile arama**  \n",
    "    - import re  \n",
    "    - metin4 = \"Python programlama dili\"  \n",
    "    - print(bool(re.search(\"Python\", metin4)))  # Çıktı: True  \n",
    "\n",
    "- **Örnek 5: Büyük/küçük harf duyarsız arama (`re.IGNORECASE`)**  \n",
    "    - import re  \n",
    "    - metin5 = \"Merhaba Dünya\"  \n",
    "    - print(bool(re.search(\"dünya\", metin5, re.IGNORECASE)))  # Çıktı: True  \n",
    "\n",
    "- **Örnek 6: Birden fazla kelimeyi kontrol etme (Alternatif `|` kullanımı)**  \n",
    "    - import re  \n",
    "    - metin6 = \"Ben Python ve Java kullanıyorum.\"  \n",
    "    - print(bool(re.search(\"Python|C++\", metin6)))  # Çıktı: True (Python var, C++ yok ama biri bile bulunursa True döner)  \n"
   ]
  },
  {
   "cell_type": "code",
   "execution_count": null,
   "metadata": {},
   "outputs": [],
   "source": []
  },
  {
   "cell_type": "code",
   "execution_count": null,
   "metadata": {},
   "outputs": [],
   "source": []
  },
  {
   "cell_type": "code",
   "execution_count": null,
   "metadata": {},
   "outputs": [],
   "source": []
  },
  {
   "cell_type": "code",
   "execution_count": null,
   "metadata": {},
   "outputs": [],
   "source": []
  },
  {
   "cell_type": "code",
   "execution_count": null,
   "metadata": {},
   "outputs": [],
   "source": []
  }
 ],
 "metadata": {
  "kernelspec": {
   "display_name": "Python 3",
   "language": "python",
   "name": "python3"
  },
  "language_info": {
   "codemirror_mode": {
    "name": "ipython",
    "version": 3
   },
   "file_extension": ".py",
   "mimetype": "text/x-python",
   "name": "python",
   "nbconvert_exporter": "python",
   "pygments_lexer": "ipython3",
   "version": "3.13.0"
  }
 },
 "nbformat": 4,
 "nbformat_minor": 2
}
