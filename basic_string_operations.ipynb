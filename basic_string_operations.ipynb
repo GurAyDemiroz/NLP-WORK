{
 "cells": [
  {
   "cell_type": "markdown",
   "metadata": {},
   "source": [
    "# TEMEL STRİNG İŞLEMLERİ"
   ]
  },
  {
   "cell_type": "code",
   "execution_count": 1,
   "metadata": {},
   "outputs": [],
   "source": [
    "name = \"güray\""
   ]
  },
  {
   "cell_type": "code",
   "execution_count": 2,
   "metadata": {},
   "outputs": [
    {
     "data": {
      "text/plain": [
       "'güraygüraygüray'"
      ]
     },
     "execution_count": 2,
     "metadata": {},
     "output_type": "execute_result"
    }
   ],
   "source": [
    "name * 3"
   ]
  },
  {
   "cell_type": "code",
   "execution_count": 3,
   "metadata": {},
   "outputs": [
    {
     "data": {
      "text/plain": [
       "'güraydemiröz'"
      ]
     },
     "execution_count": 3,
     "metadata": {},
     "output_type": "execute_result"
    }
   ],
   "source": [
    "\"güray\" + \"demiröz\""
   ]
  },
  {
   "cell_type": "code",
   "execution_count": 4,
   "metadata": {},
   "outputs": [
    {
     "data": {
      "text/plain": [
       "'Güray'"
      ]
     },
     "execution_count": 4,
     "metadata": {},
     "output_type": "execute_result"
    }
   ],
   "source": [
    "\"G\" + name[1:]"
   ]
  },
  {
   "cell_type": "code",
   "execution_count": 5,
   "metadata": {},
   "outputs": [],
   "source": [
    "names = [\"güray\", \"alisait\"]"
   ]
  },
  {
   "cell_type": "code",
   "execution_count": 9,
   "metadata": {},
   "outputs": [
    {
     "name": "stdout",
     "output_type": "stream",
     "text": [
      "İsim :güray\n",
      "İsim :alisait\n"
     ]
    }
   ],
   "source": [
    "for i in names:\n",
    "    print(\"İsim :\", i, sep=\"\")"
   ]
  },
  {
   "cell_type": "code",
   "execution_count": 11,
   "metadata": {},
   "outputs": [
    {
     "name": "stdout",
     "output_type": "stream",
     "text": [
      "_güray\n",
      "_alisait\n"
     ]
    }
   ],
   "source": [
    "for i in names:\n",
    "    print(\"_\", i, sep=\"\")"
   ]
  },
  {
   "cell_type": "code",
   "execution_count": 14,
   "metadata": {},
   "outputs": [
    {
     "name": "stdout",
     "output_type": "stream",
     "text": [
      "(0, 'güray') (1, 'alisait')\n"
     ]
    }
   ],
   "source": [
    "print(*enumerate(names))"
   ]
  },
  {
   "cell_type": "code",
   "execution_count": 17,
   "metadata": {},
   "outputs": [
    {
     "name": "stdout",
     "output_type": "stream",
     "text": [
      "(0, 'güray')\n",
      "(1, 'alisait')\n"
     ]
    }
   ],
   "source": [
    "for i in enumerate(names):\n",
    "    print(i)"
   ]
  },
  {
   "cell_type": "code",
   "execution_count": 18,
   "metadata": {},
   "outputs": [
    {
     "name": "stdout",
     "output_type": "stream",
     "text": [
      "(0, 'n')\n",
      "(1, 'a')\n",
      "(2, 'm')\n",
      "(3, 'e')\n",
      "(4, 's')\n"
     ]
    }
   ],
   "source": [
    "for i in enumerate(\"names\"):\n",
    "    print(i)"
   ]
  },
  {
   "cell_type": "code",
   "execution_count": 19,
   "metadata": {},
   "outputs": [
    {
     "name": "stdout",
     "output_type": "stream",
     "text": [
      "(1, 'güray')\n",
      "(2, 'alisait')\n"
     ]
    }
   ],
   "source": [
    "for i in enumerate(names, 1):\n",
    "    print(i)"
   ]
  },
  {
   "cell_type": "markdown",
   "metadata": {},
   "source": [
    "## Dizi İçi Tip Sorgulama"
   ]
  },
  {
   "cell_type": "code",
   "execution_count": 21,
   "metadata": {},
   "outputs": [
    {
     "data": {
      "text/plain": [
       "True"
      ]
     },
     "execution_count": 21,
     "metadata": {},
     "output_type": "execute_result"
    }
   ],
   "source": [
    "\"güray\".isalpha()"
   ]
  },
  {
   "cell_type": "markdown",
   "metadata": {},
   "source": [
    "isalpha() metodu, bir string içerisindeki tüm karakterlerin alfabetik olup olmadığını kontrol eder. Eğer string boş değilse ve tüm karakterler alfabe harfiyse, True; aksi halde False döner.\n",
    "\n",
    "\n",
    "\n",
    "- Örnek 1: Sadece harflerden oluşan bir string\n",
    "    - metin1 = \"Python\"\n",
    "    - print(metin1.isalpha())  # Çıktı: True\n",
    "\n",
    "- Örnek 2: Harfler ve rakamlar içeriyorsa\n",
    "    - metin2 = \"Python3\"\n",
    "    - print(metin2.isalpha())  # Çıktı: False\n",
    "\n",
    "- Örnek 3: Boşluk içeren string\n",
    "    - metin3 = \"Merhaba Dünya\"\n",
    "    - print(metin3.isalpha())  # Çıktı: False\n",
    "\n",
    "- Örnek 4: Yalnızca rakamlardan oluşan string\n",
    "    - metin4 = \"12345\"\n",
    "    - print(metin4.isalpha())  # Çıktı: False"
   ]
  },
  {
   "cell_type": "code",
   "execution_count": 27,
   "metadata": {},
   "outputs": [
    {
     "data": {
      "text/plain": [
       "False"
      ]
     },
     "execution_count": 27,
     "metadata": {},
     "output_type": "execute_result"
    }
   ],
   "source": [
    "\"güray0\".isalpha()"
   ]
  },
  {
   "cell_type": "markdown",
   "metadata": {},
   "source": [
    "isalpha() metodu, bir string’in yalnızca harflerden (A-Z, a-z) oluşup oluşmadığını kontrol eder. Eğer string boş değilse ve yalnızca alfabetik karakterler içeriyorsa True, aksi halde False döner.\n",
    "\n"
   ]
  },
  {
   "cell_type": "code",
   "execution_count": null,
   "metadata": {},
   "outputs": [],
   "source": []
  },
  {
   "cell_type": "code",
   "execution_count": null,
   "metadata": {},
   "outputs": [],
   "source": []
  },
  {
   "cell_type": "code",
   "execution_count": 23,
   "metadata": {},
   "outputs": [
    {
     "data": {
      "text/plain": [
       "True"
      ]
     },
     "execution_count": 23,
     "metadata": {},
     "output_type": "execute_result"
    }
   ],
   "source": [
    "\"12345\".isdigit()"
   ]
  },
  {
   "cell_type": "code",
   "execution_count": 24,
   "metadata": {},
   "outputs": [
    {
     "data": {
      "text/plain": [
       "True"
      ]
     },
     "execution_count": 24,
     "metadata": {},
     "output_type": "execute_result"
    }
   ],
   "source": [
    "\"12345\".isnumeric()\n"
   ]
  },
  {
   "cell_type": "code",
   "execution_count": 25,
   "metadata": {},
   "outputs": [
    {
     "data": {
      "text/plain": [
       "True"
      ]
     },
     "execution_count": 25,
     "metadata": {},
     "output_type": "execute_result"
    }
   ],
   "source": [
    "\"güray0\".isalnum()"
   ]
  },
  {
   "cell_type": "markdown",
   "metadata": {},
   "source": [
    "## Elemanlarına ve Eleman İndekslerine Erişim"
   ]
  },
  {
   "cell_type": "code",
   "execution_count": null,
   "metadata": {},
   "outputs": [],
   "source": []
  }
 ],
 "metadata": {
  "kernelspec": {
   "display_name": "Python 3",
   "language": "python",
   "name": "python3"
  },
  "language_info": {
   "codemirror_mode": {
    "name": "ipython",
    "version": 3
   },
   "file_extension": ".py",
   "mimetype": "text/x-python",
   "name": "python",
   "nbconvert_exporter": "python",
   "pygments_lexer": "ipython3",
   "version": "3.13.0"
  }
 },
 "nbformat": 4,
 "nbformat_minor": 2
}
